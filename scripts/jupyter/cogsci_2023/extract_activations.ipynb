{
 "cells": [
  {
   "cell_type": "code",
   "execution_count": 2,
   "metadata": {},
   "outputs": [],
   "source": [
    "%load_ext autoreload\n",
    "%autoreload 2\n",
    "import os\n",
    "\n",
    "# # calculate number of images in /media/external/siddsuresh97/datasets/ecoset_leuven_updated/train\n",
    "# # using os.listdir\n",
    "# import os\n",
    "# baseroot = '/media/external/siddsuresh97/datasets/ecoset_leuven_updated/train'\n",
    "# total = 0\n",
    "# for dir in os.listdir(baseroot):\n",
    "#     total += len(os.listdir(os.path.join(baseroot, dir)))\n",
    "# print(total)\n",
    "\n",
    "# # number of steps in a epoch = total_images / batch_size\n",
    "# print('number_of_steps_in_an_epoch = ', total/256)\n",
    "\n",
    "# print('base_model_ce number of epochs = ', (9200/total)*256)     #test acc = 62.77, train = 72.66\n",
    "# print('base_model_bce number of epochs = ', (55600/total)*256)   #test acc = 59.56, train = 69.14\n",
    "# print('base_model_mse number of epochs = ', (9600/total)*256)   #test acc = 52.21, train = 69.14"
   ]
  },
  {
   "cell_type": "markdown",
   "metadata": {},
   "source": [
    "# extract activations"
   ]
  },
  {
   "cell_type": "code",
   "execution_count": 3,
   "metadata": {},
   "outputs": [],
   "source": [
    "from src.utils.vss_helper_functions import *\n",
    "from src.utils import cogsci_helper_functions\n",
    "\n",
    "#open pickle file at ../../../data/human_triplets/triplets_for_mturk.pkl\n",
    "import pickle\n",
    "with open('../../../data/human_triplets/triplets_for_mturk.pkl', 'rb') as f:\n",
    "    triplets_for_mturk = pickle.load(f)"
   ]
  },
  {
   "cell_type": "code",
   "execution_count": 4,
   "metadata": {},
   "outputs": [
    {
     "name": "stdout",
     "output_type": "stream",
     "text": [
      "Loading checkpoint from /home/siddsuresh97/Projects/alexnet_model_weights/cogsci/models/pre_trained_ce/alexnet_states_e8.pkl\n",
      "Loading checkpoint from /home/siddsuresh97/Projects/alexnet_model_weights/cogsci/models/pre_trained_ce/alexnet_states_e69.pkl\n"
     ]
    }
   ],
   "source": [
    "# turn this flag to true if you want to save the results to a csv file\n",
    "model_weights_root_dir = '/home/siddsuresh97/Projects/alexnet_model_weights/cogsci'\n",
    "extract_pre_final_activations = True\n",
    "if extract_pre_final_activations:\n",
    "    df_ce_pt_ideal = cogsci_helper_functions.get_prediction_df('baseline_ce_pt', model_weights_root_dir, 8, '/media/external/siddsuresh97/datasets/ecoset_leuven_updated/human_triplets_images', triplets_for_mturk['concept_number_to_concept_name'])\n",
    "    df_ce_pt_overfit = cogsci_helper_functions.get_prediction_df('baseline_ce_pt', model_weights_root_dir, 69, '/media/external/siddsuresh97/datasets/ecoset_leuven_updated/human_triplets_images', triplets_for_mturk['concept_number_to_concept_name'])\n",
    "    df_bce_v2_ideal = cogsci_helper_functions.get_prediction_df('bce_v2', model_weights_root_dir, 9, '/media/external/siddsuresh97/datasets/ecoset_leuven_updated/human_triplets_images', triplets_for_mturk['concept_number_to_concept_name'])\n",
    "    df_bce_v2_overfit = cogsci_helper_functions.get_prediction_df('bce_v2', model_weights_root_dir, 78, '/media/external/siddsuresh97/datasets/ecoset_leuven_updated/human_triplets_images', triplets_for_mturk['concept_number_to_concept_name'])\n",
    "    df_ce_scratch = cogsci_helper_functions.get_prediction_df('baseline_ce_scratch', model_weights_root_dir, 48, '/media/external/siddsuresh97/datasets/ecoset_leuven_updated/human_triplets_images', triplets_for_mturk['concept_number_to_concept_name']) \n",
    "    df_ce_pt_ideal.to_csv('../../../data/cogsci_2023/model_activations_pre_final/baseline_ce_pt_ideal.csv')\n",
    "    df_ce_pt_overfit.to_csv('../../../data/cogsci_2023/model_activations_pre_final/baseline_ce_pt_overfit.csv')\n",
    "    df_bce_v2_ideal.to_csv('../../../data/cogsci_2023/model_activations_pre_final/bce_v2_ideal.csv')\n",
    "    df_bce_v2_overfit.to_csv('../../../data/cogsci_2023/model_activations_pre_final/bce_v2_overfit.csv')\n",
    "    df_ce_scratch.to_csv('../../../data/cogsci_2023/model_activations_pre_final/baseline_ce_scratch.csv')\n",
    "\n",
    "\n"
   ]
  },
  {
   "cell_type": "code",
   "execution_count": 19,
   "metadata": {},
   "outputs": [
    {
     "name": "stdout",
     "output_type": "stream",
     "text": [
      "Loading checkpoint from /home/siddsuresh97/Projects/alexnet_model_weights/cogsci/models/pre_trained_ce/alexnet_states_e8.pkl\n",
      "Loading checkpoint from /home/siddsuresh97/Projects/alexnet_model_weights/cogsci/models/pt_alexnet_bce_0.0006621068753189949/alexnet_states_e9.pkl\n",
      "Loading checkpoint from /home/siddsuresh97/Projects/alexnet_model_weights/cogsci/models/pt_alexnet_bce_0.0006621068753189949/alexnet_states_e78.pkl\n",
      "Loading checkpoint from /home/siddsuresh97/Projects/alexnet_model_weights/cogsci/models/scratch_alexnet_ce_adam_og/alexnet_states_e48.pkl\n"
     ]
    }
   ],
   "source": [
    "# extract_pre_final_activations = False \n",
    "# labels = os.listdir('/media/external/siddsuresh97/datasets/ecoset_leuven_updated/test_one_image_per_concept')\n",
    "# labels.sort()\n",
    "# if extract_pre_final_activations:\n",
    "#     df_ce_pt = cogsci_helper_functions.get_prediction_df('baseline_ce_pt', model_weights_root_dir, 8, '/media/external/siddsuresh97/datasets/ecoset_leuven_updated/test_one_image_per_concept', labels)\n",
    "#     df_bce_v2_ideal = cogsci_helper_functions.get_prediction_df('bce_v2', model_weights_root_dir, 9, '/media/external/siddsuresh97/datasets/ecoset_leuven_updated/test_one_image_per_concept', labels)\n",
    "#     df_bce_v2_overfit = cogsci_helper_functions.get_prediction_df('bce_v2', model_weights_root_dir, 78, '/media/external/siddsuresh97/datasets/ecoset_leuven_updated/test_one_image_per_concept', labels)\n",
    "#     df_ce_scratch = cogsci_helper_functions.get_prediction_df('baseline_ce_scratch', model_weights_root_dir, 48, '/media/external/siddsuresh97/datasets/ecoset_leuven_updated/test_one_image_per_concept', labels) \n",
    "#     df_ce_pt.to_csv('../../../data/cogsci_2023/model_activations_pre_final/baseline_ce_pt_one_image_per_concept.csv')\n",
    "#     df_bce_v2_ideal.to_csv('../../../data/cogsci_2023/model_activations_pre_final/bce_v2_ideal_one_image_per_concept.csv')\n",
    "#     df_bce_v2_overfit.to_csv('../../../data/cogsci_2023/model_activations_pre_final/bce_v2_overfit_one_image_per_concept.csv')\n",
    "#     df_ce_scratch.to_csv('../../../data/cogsci_2023/model_activations_pre_final/baseline_ce_scratch_one_image_per_concept.csv')"
   ]
  },
  {
   "attachments": {},
   "cell_type": "markdown",
   "metadata": {},
   "source": [
    "# cogsci"
   ]
  },
  {
   "cell_type": "code",
   "execution_count": 20,
   "metadata": {},
   "outputs": [],
   "source": [
    "from src.utils.vss_helper_functions import *\n",
    "\n",
    "#open pickle file at ../../../data/human_triplets/triplets_for_mturk.pkl\n",
    "import pickle\n",
    "with open('../../../data/human_triplets/triplets_for_mturk.pkl', 'rb') as f:\n",
    "    triplets_for_mturk = pickle.load(f)"
   ]
  },
  {
   "cell_type": "markdown",
   "metadata": {},
   "source": []
  }
 ],
 "metadata": {
  "kernelspec": {
   "display_name": "Python 3.9.12 ('base')",
   "language": "python",
   "name": "python3"
  },
  "language_info": {
   "codemirror_mode": {
    "name": "ipython",
    "version": 3
   },
   "file_extension": ".py",
   "mimetype": "text/x-python",
   "name": "python",
   "nbconvert_exporter": "python",
   "pygments_lexer": "ipython3",
   "version": "3.9.12"
  },
  "orig_nbformat": 4,
  "vscode": {
   "interpreter": {
    "hash": "d44d6ed31f1e55b4aac16271421abd84418c35de2389bd7c4a33ebfbe2cf68d9"
   }
  }
 },
 "nbformat": 4,
 "nbformat_minor": 2
}
