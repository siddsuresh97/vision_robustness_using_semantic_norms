{
 "cells": [
  {
   "cell_type": "code",
   "execution_count": 3,
   "metadata": {},
   "outputs": [
    {
     "name": "stdout",
     "output_type": "stream",
     "text": [
      "306331\n",
      "number_of_steps_in_an_epoch =  1196.60546875\n",
      "base_model_ce number of epochs =  7.688415472152672\n",
      "base_model_bce number of epochs =  46.464771766487885\n",
      "base_model_mse number of epochs =  8.022694405724527\n"
     ]
    }
   ],
   "source": [
    "%load_ext autoreload\n",
    "%autoreload 2\n",
    "\n",
    "# calculate number of images in /media/external/siddsuresh97/datasets/ecoset_leuven_updated/train\n",
    "# using os.listdir\n",
    "import os\n",
    "baseroot = '/media/external/siddsuresh97/datasets/ecoset_leuven_updated/train'\n",
    "total = 0\n",
    "for dir in os.listdir(baseroot):\n",
    "    total += len(os.listdir(os.path.join(baseroot, dir)))\n",
    "print(total)\n",
    "\n",
    "# number of steps in a epoch = total_images / batch_size\n",
    "print('number_of_steps_in_an_epoch = ', total/256)\n",
    "\n",
    "print('base_model_ce number of epochs = ', (9200/total)*256)     #test acc = 62.77, train = 72.66\n",
    "print('base_model_bce number of epochs = ', (55600/total)*256)   #test acc = 59.56, train = 69.14\n",
    "print('base_model_mse number of epochs = ', (9600/total)*256)   #test acc = 52.21, train = 69.14"
   ]
  },
  {
   "cell_type": "markdown",
   "metadata": {},
   "source": [
    "# extract activations"
   ]
  },
  {
   "cell_type": "code",
   "execution_count": 2,
   "metadata": {},
   "outputs": [],
   "source": [
    "from src.utils.vss_helper_functions import *\n",
    "\n",
    "#open pickle file at ../../../data/human_triplets/triplets_for_mturk.pkl\n",
    "import pickle\n",
    "with open('../../../data/human_triplets/triplets_for_mturk.pkl', 'rb') as f:\n",
    "    triplets_for_mturk = pickle.load(f)"
   ]
  },
  {
   "cell_type": "code",
   "execution_count": 4,
   "metadata": {},
   "outputs": [
    {
     "name": "stdout",
     "output_type": "stream",
     "text": [
      "Loading checkpoint from /media/external/siddsuresh97/model_weights/alexnet_data_out/models/updated_ds_pre_trained_alexnet_bce_v2_adam_0.00001/alexnet_states_e25.pkl\n"
     ]
    }
   ],
   "source": [
    "# turn this flag to true if you want to save the results to a csv file\n",
    "extract_pre_final_activations = False\n",
    "if extract_pre_final_activations:\n",
    "    df_ce = get_prediction_df('baseline_ce', '/media/external/siddsuresh97/model_weights/alexnet_data_out', 8, '/media/external/siddsuresh97/datasets/ecoset_leuven_updated/human_triplets_images', triplets_for_mturk['concept_number_to_concept_name'])\n",
    "    df_bce = get_prediction_df('bce', '/media/external/siddsuresh97/model_weights/alexnet_data_out', 46, '/media/external/siddsuresh97/datasets/ecoset_leuven_updated/human_triplets_images', triplets_for_mturk['concept_number_to_concept_name'])\n",
    "    df_mse = get_prediction_df('mse', '/media/external/siddsuresh97/model_weights/alexnet_data_out', 8, '/media/external/siddsuresh97/datasets/ecoset_leuven_updated/human_triplets_images', triplets_for_mturk['concept_number_to_concept_name'])\n",
    "    df_bce_v2 = get_prediction_df('bce_v2', '/media/external/siddsuresh97/model_weights/alexnet_data_out', 25, '/media/external/siddsuresh97/datasets/ecoset_leuven_updated/human_triplets_images', triplets_for_mturk['concept_number_to_concept_name'])\n",
    "    df_ce.to_csv('../../../data/vss_2023/model_activations_pre_final/baseline_ce.csv')\n",
    "    df_bce.to_csv('../../../data/vss_2023/model_activations_pre_final/bce.csv')\n",
    "    df_mse.to_csv('../../../data/vss_2023/model_activations_pre_final/mse.csv')\n",
    "    df_bce_v2.to_csv('../../../data/vss_2023/model_activations_pre_final/bce_v2.csv')"
   ]
  },
  {
   "cell_type": "code",
   "execution_count": 8,
   "metadata": {},
   "outputs": [],
   "source": [
    "extract_pre_final_activations = False \n",
    "labels = os.listdir('/media/external/siddsuresh97/datasets/ecoset_leuven_updated/test_one_image_per_concept')\n",
    "labels.sort()\n",
    "if extract_pre_final_activations:\n",
    "    df_ce_embeddings = get_prediction_df('baseline_ce', '/media/external/siddsuresh97/model_weights/alexnet_data_out', 8, '/media/external/siddsuresh97/datasets/ecoset_leuven_updated/test_one_image_per_concept', labels)\n",
    "    df_bce_embeddings = get_prediction_df('bce', '/media/external/siddsuresh97/model_weights/alexnet_data_out', 46, '/media/external/siddsuresh97/datasets/ecoset_leuven_updated/test_one_image_per_concept', labels)\n",
    "    df_mse_embeddings = get_prediction_df('mse', '/media/external/siddsuresh97/model_weights/alexnet_data_out', 8, '/media/external/siddsuresh97/datasets/ecoset_leuven_updated/test_one_image_per_concept', labels)\n",
    "    df_bce_v2_embeddings = get_prediction_df('bce_v2', '/media/external/siddsuresh97/model_weights/alexnet_data_out', 25, '/media/external/siddsuresh97/datasets/ecoset_leuven_updated/test_one_image_per_concept', labels)\n",
    "    df_bce_v2_embeddings.to_csv('../../../data/vss_2023/model_activations_pre_final/bce_v2_embeddings.csv')\n",
    "    df_ce_embeddings.to_csv('../../../data/vss_2023/model_activations_pre_final/baseline_ce_embeddings_each_class.csv')\n",
    "    df_bce_embeddings.to_csv('../../../data/vss_2023/model_activations_pre_final/bce_embeddings_each_class.csv')\n",
    "    df_mse_embeddings.to_csv('../../../data/vss_2023/model_activations_pre_final/mse_embeddings_each_class.csv')\n"
   ]
  },
  {
   "cell_type": "markdown",
   "metadata": {},
   "source": [
    "# vss"
   ]
  },
  {
   "cell_type": "code",
   "execution_count": 1,
   "metadata": {},
   "outputs": [],
   "source": [
    "from src.utils.vss_helper_functions import *\n",
    "\n",
    "#open pickle file at ../../../data/human_triplets/triplets_for_mturk.pkl\n",
    "import pickle\n",
    "with open('../../../data/human_triplets/triplets_for_mturk.pkl', 'rb') as f:\n",
    "    triplets_for_mturk = pickle.load(f)"
   ]
  },
  {
   "cell_type": "code",
   "execution_count": 7,
   "metadata": {},
   "outputs": [
    {
     "name": "stdout",
     "output_type": "stream",
     "text": [
      "Loading checkpoint from /media/external/siddsuresh97/model_weights/vss_2023/models/baseline/alexnet_states_e72.pkl\n",
      "Loading checkpoint from /media/external/siddsuresh97/model_weights/vss_2023/models/bce/alexnet_states_e27.pkl\n"
     ]
    }
   ],
   "source": [
    "# turn this flag to true if you want to save the results to a csv file\n",
    "extract_pre_final_activations = False\n",
    "if extract_pre_final_activations:\n",
    "    df_ce = get_prediction_df('vss_baseline', '/media/external/siddsuresh97/model_weights/vss_2023', 72, '/media/external/siddsuresh97/datasets/ecoset_leuven_updated/human_triplets_images', triplets_for_mturk['concept_number_to_concept_name'])\n",
    "    df_bce = get_prediction_df('vss_bce', '/media/external/siddsuresh97/model_weights/vss_2023', 27, '/media/external/siddsuresh97/datasets/ecoset_leuven_updated/human_triplets_images', triplets_for_mturk['concept_number_to_concept_name'])\n",
    "    df_ce.to_csv('../../../data/vss_2023_v2/model_activations_pre_final/baseline_ce.csv')\n",
    "    df_bce.to_csv('../../../data/vss_2023_v2/model_activations_pre_final/bce.csv')"
   ]
  },
  {
   "cell_type": "code",
   "execution_count": 9,
   "metadata": {},
   "outputs": [
    {
     "name": "stdout",
     "output_type": "stream",
     "text": [
      "Loading checkpoint from /media/external/siddsuresh97/model_weights/vss_2023/models/baseline/alexnet_states_e72.pkl\n",
      "Loading checkpoint from /media/external/siddsuresh97/model_weights/vss_2023/models/bce/alexnet_states_e27.pkl\n"
     ]
    }
   ],
   "source": [
    "extract_pre_final_activations = False \n",
    "labels = os.listdir('/media/external/siddsuresh97/datasets/ecoset_leuven_updated/test_one_image_per_concept')\n",
    "labels.sort()\n",
    "if extract_pre_final_activations:\n",
    "    df_ce_embeddings = get_prediction_df('vss_baseline', '/media/external/siddsuresh97/model_weights/vss_2023', 72, '/media/external/siddsuresh97/datasets/ecoset_leuven_updated/test_one_image_per_concept', labels)\n",
    "    df_bce_embeddings = get_prediction_df('vss_bce', '/media/external/siddsuresh97/model_weights/vss_2023', 27, '/media/external/siddsuresh97/datasets/ecoset_leuven_updated/test_one_image_per_concept', labels)\n",
    "    df_ce_embeddings.to_csv('../../../data/vss_2023_v2/model_activations_pre_final/baseline_ce_embeddings_each_class.csv')\n",
    "    df_bce_embeddings.to_csv('../../../data/vss_2023_v2/model_activations_pre_final/bce_embeddings_each_class.csv')"
   ]
  },
  {
   "cell_type": "markdown",
   "metadata": {},
   "source": []
  }
 ],
 "metadata": {
  "kernelspec": {
   "display_name": "Python 3.9.12 ('base')",
   "language": "python",
   "name": "python3"
  },
  "language_info": {
   "codemirror_mode": {
    "name": "ipython",
    "version": 3
   },
   "file_extension": ".py",
   "mimetype": "text/x-python",
   "name": "python",
   "nbconvert_exporter": "python",
   "pygments_lexer": "ipython3",
   "version": "3.9.12 (main, Apr  5 2022, 06:56:58) \n[GCC 7.5.0]"
  },
  "orig_nbformat": 4,
  "vscode": {
   "interpreter": {
    "hash": "d44d6ed31f1e55b4aac16271421abd84418c35de2389bd7c4a33ebfbe2cf68d9"
   }
  }
 },
 "nbformat": 4,
 "nbformat_minor": 2
}
