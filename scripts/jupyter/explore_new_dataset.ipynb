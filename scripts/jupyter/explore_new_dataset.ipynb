{
 "cells": [
  {
   "cell_type": "code",
   "execution_count": 1,
   "metadata": {},
   "outputs": [],
   "source": [
    "from src.dataset_creation import *\n",
    "import os\n",
    "import pandas as pd\n",
    "%load_ext autoreload\n",
    "%autoreload 2\n",
    "\n",
    "dataset_dir = '/media/external/siddsuresh97/datasets/ecoset_leuven'"
   ]
  },
  {
   "cell_type": "code",
   "execution_count": 4,
   "metadata": {},
   "outputs": [],
   "source": [
    "leuven_animals = read_leuven_norms_as_df('../../data/LeuvenNorms/ANIMALSexemplarfeaturesbig.txt')\n",
    "leuven_artifacts = read_leuven_norms_as_df('../../data/LeuvenNorms/ARTIFACTSexemplarfeaturesbig.txt')\n",
    "leuven_animals_names = list(leuven_animals.columns[2:])\n",
    "leuven_artifacts_names = list(leuven_artifacts.columns[2:])"
   ]
  },
  {
   "cell_type": "code",
   "execution_count": 11,
   "metadata": {},
   "outputs": [],
   "source": [
    "# In the dataset directory, there are 3 folders: train, val, test\n",
    "# Each folder has the same concept folders\n",
    "# Make a df with the concept names and the number of images in each folder - train val test\n",
    "\n",
    "def get_df(dataset_dir):\n",
    "    df = pd.DataFrame(columns = ['concept', 'train', 'val', 'test'])\n",
    "    for folder in os.listdir(dataset_dir):\n",
    "        for concept in os.listdir(os.path.join(dataset_dir, folder)):\n",
    "            if concept not in df['concept'].values:\n",
    "                df = df.append({'concept': concept, 'train': 0, 'val': 0, 'test': 0}, ignore_index = True)\n",
    "            df.loc[df['concept'] == concept, folder] = len(os.listdir(os.path.join(dataset_dir, folder, concept)))\n",
    "    return df\n",
    "\n",
    "df = get_df(dataset_dir)"
   ]
  },
  {
   "cell_type": "code",
   "execution_count": 14,
   "metadata": {},
   "outputs": [],
   "source": [
    "# export the df to csv\n",
    "df.to_csv(os.path.join('../../', 'dataset_stats.csv'), index = False)"
   ]
  },
  {
   "cell_type": "code",
   "execution_count": null,
   "metadata": {},
   "outputs": [],
   "source": []
  }
 ],
 "metadata": {
  "kernelspec": {
   "display_name": "Python 3.7.13 ('ecoset')",
   "language": "python",
   "name": "python3"
  },
  "language_info": {
   "codemirror_mode": {
    "name": "ipython",
    "version": 3
   },
   "file_extension": ".py",
   "mimetype": "text/x-python",
   "name": "python",
   "nbconvert_exporter": "python",
   "pygments_lexer": "ipython3",
   "version": "3.7.13"
  },
  "orig_nbformat": 4,
  "vscode": {
   "interpreter": {
    "hash": "b970bc88fdbcb8b11c691d0dfc093f497ca1c06ca0be494dceeb7ca33c9afa80"
   }
  }
 },
 "nbformat": 4,
 "nbformat_minor": 2
}
