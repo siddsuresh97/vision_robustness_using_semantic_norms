{
 "cells": [
  {
   "cell_type": "code",
   "execution_count": 2,
   "metadata": {},
   "outputs": [],
   "source": [
    "from src.dataset_creation import *\n",
    "import os\n",
    "import pandas as pd\n",
    "import json\n",
    "%load_ext autoreload\n",
    "%autoreload 2\n",
    "\n",
    "dataset_dir = '/media/external/siddsuresh97/datasets/ecoset_leuven'"
   ]
  },
  {
   "cell_type": "code",
   "execution_count": 4,
   "metadata": {},
   "outputs": [],
   "source": [
    "leuven_animals = read_leuven_norms_as_df('../../data/LeuvenNorms/ANIMALSexemplarfeaturesbig.txt')\n",
    "leuven_artifacts = read_leuven_norms_as_df('../../data/LeuvenNorms/ARTIFACTSexemplarfeaturesbig.txt')\n",
    "leuven_animals_names = list(leuven_animals.columns[2:])\n",
    "leuven_artifacts_names = list(leuven_artifacts.columns[2:])"
   ]
  },
  {
   "cell_type": "code",
   "execution_count": 11,
   "metadata": {},
   "outputs": [],
   "source": [
    "# In the dataset directory, there are 3 folders: train, val, test\n",
    "# Each folder has the same concept folders\n",
    "# Make a df with the concept names and the number of images in each folder - train val test\n",
    "\n",
    "def get_df(dataset_dir):\n",
    "    df = pd.DataFrame(columns = ['concept', 'train', 'val', 'test'])\n",
    "    for folder in os.listdir(dataset_dir):\n",
    "        for concept in os.listdir(os.path.join(dataset_dir, folder)):\n",
    "            if concept not in df['concept'].values:\n",
    "                df = df.append({'concept': concept, 'train': 0, 'val': 0, 'test': 0}, ignore_index = True)\n",
    "            df.loc[df['concept'] == concept, folder] = len(os.listdir(os.path.join(dataset_dir, folder, concept)))\n",
    "    return df\n",
    "\n",
    "df = get_df(dataset_dir)"
   ]
  },
  {
   "cell_type": "code",
   "execution_count": 14,
   "metadata": {},
   "outputs": [],
   "source": [
    "# export the df to csv\n",
    "df.to_csv(os.path.join('../../', 'dataset_stats.csv'), index = False)"
   ]
  },
  {
   "cell_type": "code",
   "execution_count": 4,
   "metadata": {},
   "outputs": [],
   "source": [
    "# open the csv file and calculate class weights using only the train set\n",
    "# class weights are calculated as the inverse of the number of images in the train set\n",
    "# this is done to balance the classes in the dataset\n",
    "# class weights are then printed using the concept names as the keys\n",
    "df = pd.read_csv('../../dataset_stats.csv')\n",
    "df['class_weight'] = df['train'].sum() / (len(df['concept'])*df['train'])\n",
    "# save the class weights to a json file with the concept names as the keys\n",
    "class_weights = df.set_index('concept')['class_weight'].to_dict()\n",
    "with open('../../class_weights.json', 'w') as f:\n",
    "    json.dump(class_weights, f)"
   ]
  },
  {
   "cell_type": "code",
   "execution_count": 5,
   "metadata": {},
   "outputs": [],
   "source": [
    "# dict of class weights where concept is the key and class weight is the value\n",
    "class_weights = json.load(open('../../class_weights.json'))\n",
    "\n"
   ]
  },
  {
   "cell_type": "code",
   "execution_count": 6,
   "metadata": {},
   "outputs": [
    {
     "data": {
      "text/plain": [
       "{'towel': 0.8943063698523465,\n",
       " 'bottle': 0.938717502504878,\n",
       " 'wasp': 1.1592674841911261,\n",
       " 'glass': 0.6620412899482667,\n",
       " 'kettle': 1.926358392762453,\n",
       " 'llama': 0.9956094723536584,\n",
       " 'spider': 0.8563806756405692,\n",
       " 'anvil': 4.752863589031587,\n",
       " 'iguana': 1.4186923187273857,\n",
       " 'car': 0.45732922956766586,\n",
       " 'violin': 0.9019050514262552,\n",
       " 'submarine': 1.483247648171448,\n",
       " 'beaver': 1.826089186610724,\n",
       " 'donkey': 1.2737674418604652,\n",
       " 'worm': 0.9302795923700026,\n",
       " 'hammer': 1.1518486883824461,\n",
       " 'bus': 1.0472411297866207,\n",
       " 'sieve': 2.279594816104907,\n",
       " 'cat': 0.3807361524920916,\n",
       " 'wheelbarrow': 2.6794460751110107,\n",
       " 'moth': 0.8588680883913925,\n",
       " 'jar': 1.4148134607130936,\n",
       " 'elephant': 0.868052880278153,\n",
       " 'mosquito': 1.1518486883824461,\n",
       " 'caterpillar': 0.9164808913098321,\n",
       " 'hedgehog': 2.5397203595377373,\n",
       " 'bumblebee': 2.5444033104158033,\n",
       " 'squirrel': 0.8554958020348237,\n",
       " 'snake': 0.8613699929351876,\n",
       " 'axe': 0.9670040144934622,\n",
       " 'sheep': 0.8794867614290444,\n",
       " 'wolf': 1.0708081184807325,\n",
       " 'guitar': 0.8711582883094511,\n",
       " 'ant': 0.1326968678413473,\n",
       " 'airplane': 0.8509237792490261,\n",
       " 'knife': 0.8927634647501642,\n",
       " 'shovel': 1.385920383678109,\n",
       " 'boat': 3.0350030689490555,\n",
       " 'toaster': 2.823836416129953,\n",
       " 'paintbrush': 3.4497868217054264,\n",
       " 'pig': 0.9847155532936517,\n",
       " 'monkey': 0.9070429855491918,\n",
       " 'lion': 0.7034399636442671,\n",
       " 'beetle': 0.8516239839634873,\n",
       " 'crowbar': 6.865247406378958,\n",
       " 'drum': 0.8586899369521908,\n",
       " 'whale': 0.8633460242015666,\n",
       " 'dolphin': 0.8709750023241135,\n",
       " 'cow': 0.8746554375758528,\n",
       " 'hovercraft': 2.7783518027157794,\n",
       " 'kangaroo': 1.0522989796762867,\n",
       " 'screwdriver': 2.430853896680277,\n",
       " 'bicycle': 0.8544363645090839,\n",
       " 'alligator': 1.3397230375555054,\n",
       " 'piano': 0.8761363356712194,\n",
       " 'horse': 0.6729103033235552,\n",
       " 'spoon': 1.3822184260589354,\n",
       " 'wrench': 1.3891759013578897,\n",
       " 'dog': 0.5103864117921972,\n",
       " 'tiger': 0.8647888418730962,\n",
       " 'plate': 1.4591978096744842,\n",
       " 'zebra': 0.951884154069099,\n",
       " 'earwig': 2.1371936943967533,\n",
       " 'tractor': 1.760095317196646,\n",
       " 'salamander': 1.0109265411590993,\n",
       " 'deer': 0.8604747840462506,\n",
       " 'train': 0.8868346585360993,\n",
       " 'crocodile': 1.3096311882462865,\n",
       " 'pan': 0.588115383725886,\n",
       " 'frog': 1.1837987377885364,\n",
       " 'gecko': 1.9362694976831205,\n",
       " 'lizard': 0.8560265066266567,\n",
       " 'truck': 0.8491782945736435,\n",
       " 'mouse': 0.802587085313399,\n",
       " 'turtle': 0.8565578700696279,\n",
       " 'shield': 2.2584529111001155,\n",
       " 'pliers': 1.43243743461817,\n",
       " 'bison': 1.175729675105513,\n",
       " 'bowl': 1.0023593670814799,\n",
       " 'rabbit': 1.4484759223395771,\n",
       " 'hamster': 1.3933841083966716,\n",
       " 'clarinet': 1.8605591847400051,\n",
       " 'cockroach': 1.3475729772286822,\n",
       " 'cymbals': 4.625412498375991,\n",
       " 'chameleon': 1.2932659125418655,\n",
       " 'helicopter': 1.388709891327243}"
      ]
     },
     "execution_count": 6,
     "metadata": {},
     "output_type": "execute_result"
    }
   ],
   "source": [
    "class_weights"
   ]
  },
  {
   "cell_type": "code",
   "execution_count": null,
   "metadata": {},
   "outputs": [],
   "source": [
    "import numpy as np\n",
    "import cv2\n",
    " \n",
    "from pathlib import Path\n",
    " \n",
    "imageFilesDir = Path(r'/media/external/siddsuresh97/datasets/ecoset_leuven/train')\n",
    "files = list(imageFilesDir.rglob('*.jpg')) + list(imageFilesDir.rglob('*.JPEG'))\n",
    " \n",
    "len(files)\n",
    " \n",
    "mean = np.array([0.,0.,0.])\n",
    "stdTemp = np.array([0.,0.,0.])\n",
    "std = np.array([0.,0.,0.])\n",
    " \n",
    "numSamples = len(files)\n",
    " \n",
    "for i in range(numSamples):\n",
    "    im = cv2.imread(str(files[i]))\n",
    "    im = cv2.cvtColor(im, cv2.COLOR_BGR2RGB)\n",
    "    im = im.astype(float) / 255.\n",
    "     \n",
    "    for j in range(3):\n",
    "        mean[j] += np.mean(im[:,:,j])\n",
    "       \n",
    "mean = (mean/numSamples)\n",
    " \n",
    "print(mean) #[0.50616427 0.48602325 0.43117783] \n"
   ]
  },
  {
   "cell_type": "code",
   "execution_count": null,
   "metadata": {},
   "outputs": [],
   "source": [
    "for i in range(numSamples):\n",
    "   ...:     im = cv2.imread(str(files[i]))\n",
    "   ...:     im = cv2.cvtColor(im, cv2.COLOR_BGR2RGB)\n",
    "   ...:     im = im.astype(float) / 255.\n",
    "   ...:     for j in range(3):\n",
    "   ...:         stdTemp[j] += ((im[:,:,j] - mean[j])**2).sum()/(im.shape[0]*im.shape[1])\n",
    "   ...: \n",
    "   ...: std = np.sqrt(stdTemp/numSamples)\n",
    "   ...: \n",
    "   ...: print(std)\n",
    "\n",
    "   # [0.28661095 0.27966835 0.29607392]"
   ]
  },
  {
   "cell_type": "code",
   "execution_count": 4,
   "metadata": {},
   "outputs": [
    {
     "data": {
      "text/plain": [
       "356018"
      ]
     },
     "execution_count": 4,
     "metadata": {},
     "output_type": "execute_result"
    }
   ],
   "source": [
    " #load dataset_stats.csv\n",
    "df = pd.read_csv('../../dataset_stats.csv')\n",
    "# find the sume of the number of images in the train set\n",
    "total_images = df['train'].sum()\n",
    "total_images"
   ]
  },
  {
   "cell_type": "code",
   "execution_count": null,
   "metadata": {},
   "outputs": [],
   "source": []
  }
 ],
 "metadata": {
  "kernelspec": {
   "display_name": "Python 3.9.12 ('base')",
   "language": "python",
   "name": "python3"
  },
  "language_info": {
   "codemirror_mode": {
    "name": "ipython",
    "version": 3
   },
   "file_extension": ".py",
   "mimetype": "text/x-python",
   "name": "python",
   "nbconvert_exporter": "python",
   "pygments_lexer": "ipython3",
   "version": "3.9.12 (main, Apr  5 2022, 06:56:58) \n[GCC 7.5.0]"
  },
  "orig_nbformat": 4,
  "vscode": {
   "interpreter": {
    "hash": "d44d6ed31f1e55b4aac16271421abd84418c35de2389bd7c4a33ebfbe2cf68d9"
   }
  }
 },
 "nbformat": 4,
 "nbformat_minor": 2
}
